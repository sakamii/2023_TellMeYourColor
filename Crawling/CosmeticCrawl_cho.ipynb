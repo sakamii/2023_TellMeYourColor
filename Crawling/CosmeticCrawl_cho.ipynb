{
 "cells": [
  {
   "cell_type": "code",
   "execution_count": null,
   "metadata": {},
   "outputs": [],
   "source": [
    "from selenium import webdriver\n",
    "from selenium.webdriver.chrome.service import Service\n",
    "from selenium.webdriver.chrome.options import Options\n",
    "from webdriver_manager.chrome import ChromeDriverManager\n",
    "from selenium.webdriver.common.by import By\n",
    "# from selenium.webdriver.common.keys import Keys\n",
    "from selenium.webdriver.support.ui import WebDriverWait\n",
    "from selenium.webdriver.support import expected_conditions as EC\n",
    "# from selenium.common.exceptions import TimeoutException\n",
    "# from selenium.common.exceptions import WebDriverException\n",
    "import urllib.request\n",
    "import pandas as pd\n",
    "from bs4 import BeautifulSoup\n",
    "import time\n",
    "import os\n",
    "import csv"
   ]
  },
  {
   "cell_type": "code",
   "execution_count": null,
   "metadata": {},
   "outputs": [],
   "source": [
    "chrome_options = Options()   # chrome 옵션 객체 생성\n",
    "chrome_options.add_experimental_option(\"detach\", True) # 브라우져 창이 열린 상태로 유지되도록 설정\n",
    "chrome_options.add_experimental_option(\"excludeSwitches\", [\"enable-logging\"])\n",
    "service = Service(executable_path=ChromeDriverManager().install()) # chrome 드라이버를 실행하기 위한 service 객체 생성"
   ]
  },
  {
   "cell_type": "code",
   "execution_count": null,
   "metadata": {},
   "outputs": [],
   "source": [
    "# 카테고리 클릭하기\n",
    "from selenium.common.exceptions import NoSuchElementException\n",
    "browser = webdriver.Chrome(service=service,options=chrome_options)\n",
    "wait = WebDriverWait(browser, 10)\n",
    "browser.maximize_window()\n",
    "url = \"https://www.oliveyoung.co.kr/store/display/getMCategoryList.do?dispCatNo=100000100020006&fltDispCatNo=&prdSort=01&pageIdx=1&rowsPerPage=24&searchTypeSort=btn_thumb&plusButtonFlag=N&isLoginCnt=0&aShowCnt=0&bShowCnt=0&cShowCnt=0&trackingCd=Cat100000100020006_MID\"\n",
    "browser.get(url)\n",
    "wait.until(EC.presence_of_all_elements_located((By.CSS_SELECTOR, '#Contents')))\n",
    "total_links = []\n",
    "for i in range(2,6):\n",
    "    \n",
    "    selector = f'#Contents > ul.cate_list_box > li:nth-child({i}) > a'\n",
    "    next_tab = browser.find_element(By.CSS_SELECTOR, selector)\n",
    "    next_tab.click()\n",
    "\n",
    "    while True:\n",
    "        try:\n",
    "            wait.until(EC.presence_of_all_elements_located((By.CSS_SELECTOR, '#Container > div.pageing > strong')))\n",
    "            soup = BeautifulSoup(browser.page_source,'html.parser')\n",
    "            links = soup.find_all('a', class_=['prd_thumb'])\n",
    "            links = [_['href'] for _ in links]\n",
    "            # for a in links:\n",
    "            #     total_links.append(a)\n",
    "            total_links.append(links)\n",
    "            next_num = browser.find_element(By.CSS_SELECTOR, '#Container > div.pageing > strong + a')\n",
    "            next_num.click()\n",
    "        except Exception:\n",
    "            print(\"페이지네이션 끝\")\n",
    "            break\n",
    "browser.quit()"
   ]
  },
  {
   "cell_type": "code",
   "execution_count": null,
   "metadata": {},
   "outputs": [],
   "source": [
    "len(total_links)"
   ]
  },
  {
   "cell_type": "code",
   "execution_count": null,
   "metadata": {},
   "outputs": [],
   "source": [
    "product_data = []\n",
    "\n",
    "for link in total_links:\n",
    "    for item in link:  \n",
    "        # selenium을 사용하기 위한\n",
    "        browser = webdriver.Chrome()\n",
    "        browser.maximize_window()\n",
    "        browser.get(item)\n",
    "        wait = WebDriverWait(browser, 3)\n",
    "        css_selector = 'div.left_area > div.prd_colorchip_list.zip > button.btn_more_colorchip'\n",
    "\n",
    "        # 제목과 가격\n",
    "        title = browser.find_element(By.CSS_SELECTOR,'#Contents > div.prd_detail_box.renew > div.right_area > div > p.prd_name').text\n",
    "        time.sleep(2)\n",
    "        price = browser.find_element(By.CSS_SELECTOR,'#Contents > div.prd_detail_box.renew > div.right_area > div > div.price > span > strong').text\n",
    "        time.sleep(2)\n",
    "\n",
    "        try:\n",
    "            element = browser.find_element(By.CSS_SELECTOR, css_selector)\n",
    "            element.click()\n",
    "        except NoSuchElementException:\n",
    "            pass\n",
    "\n",
    "        n = browser.find_elements(By.CSS_SELECTOR, '.thumb-color')\n",
    "\n",
    "        for n in range(len(n)):\n",
    "            data = []\n",
    "            browser.find_element(By.CSS_SELECTOR, f'#colrParet_{n}').click()\n",
    "            color_img = browser.find_element(By.CSS_SELECTOR, f'#colrParet_{n} > span > img').get_attribute('src')\n",
    "            time.sleep(2)\n",
    "            main_img = browser.find_element(By.CSS_SELECTOR, '#mainImg').get_attribute('src')\n",
    "            time.sleep(2)\n",
    "            img_name = browser.find_element(By.CSS_SELECTOR, '#goodstxt').text\n",
    "\n",
    "            data.append(title)\n",
    "            data.append(price)\n",
    "            data.append(color_img)\n",
    "            data.append(main_img)\n",
    "            data.append(img_name)\n",
    "            product_data.append(data)\n",
    "            \n",
    "browser.quit()\n"
   ]
  },
  {
   "cell_type": "code",
   "execution_count": null,
   "metadata": {},
   "outputs": [],
   "source": [
    "product_data"
   ]
  },
  {
   "cell_type": "code",
   "execution_count": null,
   "metadata": {},
   "outputs": [],
   "source": [
    "pro_df = pd.DataFrame(product_data, columns=['title','price','color_img','main_img','color_name'])"
   ]
  },
  {
   "cell_type": "code",
   "execution_count": null,
   "metadata": {},
   "outputs": [],
   "source": [
    "pro_df.to_csv('c:/project/pro_df.csv', sep=',', encoding='utf-8-sig')"
   ]
  },
  {
   "cell_type": "code",
   "execution_count": null,
   "metadata": {},
   "outputs": [],
   "source": [
    "pro_df.title = pro_df.title.str.replace('/','_')"
   ]
  },
  {
   "cell_type": "code",
   "execution_count": null,
   "metadata": {},
   "outputs": [],
   "source": [
    "# 이미지 저장 폴더 생성\n",
    "import os\n",
    "titles = pro_df.title.unique()\n",
    "for title in titles:\n",
    "    os.mkdir('c:/project/image/'+str(title))"
   ]
  },
  {
   "cell_type": "code",
   "execution_count": null,
   "metadata": {},
   "outputs": [],
   "source": [
    "# 상품 이름 경로에 컬러명으로 이미지 저장\n",
    "\n",
    "for item in range(len(pro_df.index)):\n",
    "    title = pro_df.loc[item].title\n",
    "    color_name = pro_df.loc[item].color_name\n",
    "    color_img = pro_df.loc[item].color_img\n",
    "    main_img = pro_df.loc[item].main_img\n",
    "\n",
    "    urllib.request.urlretrieve(main_img, 'c:/project/image/'+title+'/'+color_name+'(발색비교).jpg')\n",
    "    urllib.request.urlretrieve(color_img, 'c:/project/image/'+title+'/'+color_name+'(상품색상).jpg')"
   ]
  },
  {
   "cell_type": "code",
   "execution_count": null,
   "metadata": {},
   "outputs": [],
   "source": [
    "pro_df = pro_df.rename(columns={'title': '품명', 'color_name': '색상'})"
   ]
  },
  {
   "cell_type": "code",
   "execution_count": null,
   "metadata": {},
   "outputs": [],
   "source": [
    "pro_df['이미지경로_발색비교']=pro_df.apply(lambda x: x.품명+'/'+x.색상+'(발색비교).jpg', axis=1)\n",
    "pro_df['이미지경로_상품색상']=pro_df.apply(lambda x: x.품명+'/'+x.색상+'(상품색상).jpg', axis=1)"
   ]
  },
  {
   "cell_type": "code",
   "execution_count": null,
   "metadata": {},
   "outputs": [],
   "source": [
    "pro_df"
   ]
  }
 ],
 "metadata": {
  "kernelspec": {
   "display_name": "base",
   "language": "python",
   "name": "python3"
  },
  "language_info": {
   "name": "python",
   "version": "3.10.9"
  },
  "orig_nbformat": 4
 },
 "nbformat": 4,
 "nbformat_minor": 2
}
