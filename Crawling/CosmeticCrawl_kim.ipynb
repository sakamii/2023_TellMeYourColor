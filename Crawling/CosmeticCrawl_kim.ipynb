{
 "cells": [
  {
   "cell_type": "code",
   "execution_count": 2,
   "metadata": {},
   "outputs": [],
   "source": [
    "from selenium import webdriver\n",
    "from selenium.webdriver.chrome.service import Service\n",
    "from selenium.webdriver.chrome.options import Options\n",
    "from webdriver_manager.chrome import ChromeDriverManager\n",
    "from selenium.webdriver.common.by import By\n",
    "from selenium.webdriver.common.keys import Keys\n",
    "from selenium.webdriver.support.ui import WebDriverWait\n",
    "from selenium.webdriver.support import expected_conditions as EC\n",
    "from selenium.common.exceptions import TimeoutException\n",
    "from selenium.common.exceptions import WebDriverException\n",
    "import pandas as pd\n",
    "import requests\n",
    "from bs4 import BeautifulSoup\n",
    "import re\n",
    "import time\n",
    "import os\n",
    "import csv\n"
   ]
  },
  {
   "cell_type": "code",
   "execution_count": 3,
   "metadata": {},
   "outputs": [
    {
     "name": "stderr",
     "output_type": "stream",
     "text": [
      "[WDM] - Downloading: 100%|██████████| 6.30M/6.30M [00:00<00:00, 9.30MB/s]\n"
     ]
    }
   ],
   "source": [
    "chrome_options = Options()\n",
    "chrome_options.add_experimental_option(\"detach\", True)\n",
    "chrome_options.add_experimental_option(\"excludeSwitches\", [\"enable-logging\"])\n",
    "service = Service(executable_path=ChromeDriverManager().install())\n"
   ]
  },
  {
   "cell_type": "code",
   "execution_count": 4,
   "metadata": {},
   "outputs": [
    {
     "name": "stdout",
     "output_type": "stream",
     "text": [
      "페이지네이션 끝\n"
     ]
    }
   ],
   "source": [
    "\n",
    "# 카테고리 클릭하기\n",
    "from selenium.common.exceptions import NoSuchElementException\n",
    "browser = webdriver.Chrome(service=service,options=chrome_options)\n",
    "wait = WebDriverWait(browser, 10)\n",
    "browser.maximize_window()\n",
    "url = \"https://www.oliveyoung.co.kr/store/display/getMCategoryList.do?dispCatNo=1000001000200010006&fltDispCatNo=&prdSort=01&pageIdx=1&rowsPerPage=24&searchTypeSort=btn_thumb&plusButtonFlag=N&isLoginCnt=0&aShowCnt=0&bShowCnt=0&cShowCnt=0&trackingCd=Cat1000001000200010006_Small\"\n",
    "browser.get(url)\n",
    "wait.until(EC.presence_of_all_elements_located((By.CSS_SELECTOR, '#Contents')))\n",
    "\n",
    "total_links = []\n",
    "\n",
    "selector = f'#Contents > ul.cate_list_box > li:nth-child(3) > a'\n",
    "\n",
    "next_tab = browser.find_element(By.CSS_SELECTOR, selector)\n",
    "next_tab.click()\n",
    "\n",
    "    # soup = BeautifulSoup(browser.page_source,'html.parser')\n",
    "    # links = soup.find_all('a', class_=['prd_thumb'])\n",
    "    # links = [_['href'] for _ in links]\n",
    "    # total_links.append(links)\n",
    "# beautiful 형식\n",
    "while True:\n",
    "    try:\n",
    "        wait.until(EC.presence_of_all_elements_located((By.CSS_SELECTOR, '#Container > div.pageing > strong')))\n",
    "        soup = BeautifulSoup(browser.page_source,'html.parser')\n",
    "        links = soup.find_all('a', class_=['prd_thumb'])\n",
    "        links = [_['href'] for _ in links]\n",
    "        total_links.append(links)\n",
    "        next_num = browser.find_element(By.CSS_SELECTOR, '#Container > div.pageing > strong + a')\n",
    "        next_num.click()\n",
    "    except Exception:\n",
    "        print(\"페이지네이션 끝\")\n",
    "        break\n",
    "browser.quit()"
   ]
  },
  {
   "cell_type": "code",
   "execution_count": 5,
   "metadata": {},
   "outputs": [
    {
     "data": {
      "text/plain": [
       "60"
      ]
     },
     "execution_count": 5,
     "metadata": {},
     "output_type": "execute_result"
    }
   ],
   "source": [
    "cnt=0\n",
    "for i in total_links:\n",
    "    for j in i:\n",
    "        cnt+=1\n",
    "cnt"
   ]
  },
  {
   "cell_type": "code",
   "execution_count": 6,
   "metadata": {},
   "outputs": [
    {
     "data": {
      "text/plain": [
       "['https://www.oliveyoung.co.kr/store/goods/getGoodsDetail.do?goodsNo=A000000162680&dispCatNo=1000001000200010006&trackingCd=Cat1000001000200010006_Small',\n",
       " 'https://www.oliveyoung.co.kr/store/goods/getGoodsDetail.do?goodsNo=A000000131581&dispCatNo=1000001000200010006&trackingCd=Cat1000001000200010006_Small',\n",
       " 'https://www.oliveyoung.co.kr/store/goods/getGoodsDetail.do?goodsNo=A000000137963&dispCatNo=1000001000200010006&trackingCd=Cat1000001000200010006_Small',\n",
       " 'https://www.oliveyoung.co.kr/store/goods/getGoodsDetail.do?goodsNo=A000000185226&dispCatNo=1000001000200010006&trackingCd=Cat1000001000200010006_Small',\n",
       " 'https://www.oliveyoung.co.kr/store/goods/getGoodsDetail.do?goodsNo=A000000148558&dispCatNo=1000001000200010006&trackingCd=Cat1000001000200010006_Small',\n",
       " 'https://www.oliveyoung.co.kr/store/goods/getGoodsDetail.do?goodsNo=A000000181230&dispCatNo=1000001000200010006&trackingCd=Cat1000001000200010006_Small',\n",
       " 'https://www.oliveyoung.co.kr/store/goods/getGoodsDetail.do?goodsNo=A000000182938&dispCatNo=1000001000200010006&trackingCd=Cat1000001000200010006_Small',\n",
       " 'https://www.oliveyoung.co.kr/store/goods/getGoodsDetail.do?goodsNo=A000000139433&dispCatNo=1000001000200010006&trackingCd=Cat1000001000200010006_Small',\n",
       " 'https://www.oliveyoung.co.kr/store/goods/getGoodsDetail.do?goodsNo=A000000137964&dispCatNo=1000001000200010006&trackingCd=Cat1000001000200010006_Small',\n",
       " 'https://www.oliveyoung.co.kr/store/goods/getGoodsDetail.do?goodsNo=A000000183448&dispCatNo=1000001000200010006&trackingCd=Cat1000001000200010006_Small',\n",
       " 'https://www.oliveyoung.co.kr/store/goods/getGoodsDetail.do?goodsNo=A000000152396&dispCatNo=1000001000200010006&trackingCd=Cat1000001000200010006_Small',\n",
       " 'https://www.oliveyoung.co.kr/store/goods/getGoodsDetail.do?goodsNo=A000000150699&dispCatNo=1000001000200010006&trackingCd=Cat1000001000200010006_Small',\n",
       " 'https://www.oliveyoung.co.kr/store/goods/getGoodsDetail.do?goodsNo=A000000168459&dispCatNo=1000001000200010006&trackingCd=Cat1000001000200010006_Small',\n",
       " 'https://www.oliveyoung.co.kr/store/goods/getGoodsDetail.do?goodsNo=A000000180033&dispCatNo=1000001000200010006&trackingCd=Cat1000001000200010006_Small',\n",
       " 'https://www.oliveyoung.co.kr/store/goods/getGoodsDetail.do?goodsNo=A000000182939&dispCatNo=1000001000200010006&trackingCd=Cat1000001000200010006_Small',\n",
       " 'https://www.oliveyoung.co.kr/store/goods/getGoodsDetail.do?goodsNo=B000000141789&dispCatNo=1000001000200010006&trackingCd=Cat1000001000200010006_Small',\n",
       " 'https://www.oliveyoung.co.kr/store/goods/getGoodsDetail.do?goodsNo=A000000181634&dispCatNo=1000001000200010006&trackingCd=Cat1000001000200010006_Small',\n",
       " 'https://www.oliveyoung.co.kr/store/goods/getGoodsDetail.do?goodsNo=A000000173971&dispCatNo=1000001000200010006&trackingCd=Cat1000001000200010006_Small',\n",
       " 'https://www.oliveyoung.co.kr/store/goods/getGoodsDetail.do?goodsNo=A000000137347&dispCatNo=1000001000200010006&trackingCd=Cat1000001000200010006_Small',\n",
       " 'https://www.oliveyoung.co.kr/store/goods/getGoodsDetail.do?goodsNo=A000000173476&dispCatNo=1000001000200010006&trackingCd=Cat1000001000200010006_Small',\n",
       " 'https://www.oliveyoung.co.kr/store/goods/getGoodsDetail.do?goodsNo=A000000161077&dispCatNo=1000001000200010006&trackingCd=Cat1000001000200010006_Small',\n",
       " 'https://www.oliveyoung.co.kr/store/goods/getGoodsDetail.do?goodsNo=A000000158737&dispCatNo=1000001000200010006&trackingCd=Cat1000001000200010006_Small',\n",
       " 'https://www.oliveyoung.co.kr/store/goods/getGoodsDetail.do?goodsNo=A000000147722&dispCatNo=1000001000200010006&trackingCd=Cat1000001000200010006_Small',\n",
       " 'https://www.oliveyoung.co.kr/store/goods/getGoodsDetail.do?goodsNo=A000000146727&dispCatNo=1000001000200010006&trackingCd=Cat1000001000200010006_Small']"
      ]
     },
     "execution_count": 6,
     "metadata": {},
     "output_type": "execute_result"
    }
   ],
   "source": [
    "total_links[1]"
   ]
  },
  {
   "cell_type": "code",
   "execution_count": 43,
   "metadata": {},
   "outputs": [],
   "source": [
    "from selenium.common.exceptions import NoSuchElementException\n",
    "total_data = list()\n",
    "\n",
    "for link in total_links:\n",
    "    for product in link:\n",
    "        browser = webdriver.Chrome(service=service,options=chrome_options)\n",
    "        wait = WebDriverWait(browser, 10)\n",
    "        browser.maximize_window()\n",
    "        browser.get(product)\n",
    "\n",
    "        # title, price\n",
    "        title = browser.find_element(By.CSS_SELECTOR, '.prd_name').text\n",
    "        time.sleep(2)\n",
    "        price = browser.find_element(By.CSS_SELECTOR, '.price-2 > strong').text\n",
    "        time.sleep(2)    \n",
    "        # img\n",
    "        # 컬러 상세 이미지 가져오기\n",
    "\n",
    "        colors = browser.find_elements(By.CSS_SELECTOR, '.thumb-color')\n",
    "\n",
    "        for color in range(len(colors)):\n",
    "            data = list()\n",
    "            browser.find_element(By.CSS_SELECTOR, f'#colrParet_{color}').click()\n",
    "            color_img = browser.find_element(By.CSS_SELECTOR, f'#colrParet_{color} > span > img').get_attribute('src')\n",
    "            time.sleep(2)\n",
    "            main_img = browser.find_element(By.CSS_SELECTOR, '#mainImg').get_attribute('src')\n",
    "            time.sleep(2)\n",
    "            img_name = browser.find_element(By.CSS_SELECTOR, '#goodstxt').text\n",
    "            \n",
    "\n",
    "            # to data\n",
    "            data.append(title)\n",
    "            data.append(price)\n",
    "            data.append(color_img)\n",
    "            data.append(main_img)\n",
    "            data.append(img_name)\n",
    "            total_data.append(data)\n",
    "\n",
    "        browser.quit()\n"
   ]
  },
  {
   "cell_type": "code",
   "execution_count": 49,
   "metadata": {},
   "outputs": [
    {
     "data": {
      "text/plain": [
       "241"
      ]
     },
     "execution_count": 49,
     "metadata": {},
     "output_type": "execute_result"
    }
   ],
   "source": [
    "len(total_data)"
   ]
  },
  {
   "cell_type": "code",
   "execution_count": 58,
   "metadata": {},
   "outputs": [],
   "source": [
    "cheek_df = pd.DataFrame(total_data, columns=['title', 'price', 'color_img', 'main_img', 'color_name'])"
   ]
  },
  {
   "cell_type": "code",
   "execution_count": 63,
   "metadata": {},
   "outputs": [],
   "source": [
    "cheek_df.to_csv(\"c:/final project/cheek_df.csv\",sep=',',encoding=\"utf-8-sig\")"
   ]
  },
  {
   "cell_type": "code",
   "execution_count": 71,
   "metadata": {},
   "outputs": [],
   "source": [
    "cheek_df.title = cheek_df.title.str.replace('/','_')"
   ]
  },
  {
   "cell_type": "code",
   "execution_count": 101,
   "metadata": {},
   "outputs": [],
   "source": [
    "# 이미지 저장할 폴더 생성\n",
    "import os\n",
    "titles = cheek_df.title.unique()\n",
    "for title in titles:\n",
    "    os.mkdir(\"c:/final project/images/\"+str(title))\n"
   ]
  },
  {
   "cell_type": "code",
   "execution_count": 102,
   "metadata": {},
   "outputs": [],
   "source": [
    "# 상품 이름 경로에 컬러명으로 이미지 저장\n",
    "\n",
    "import urllib\n",
    "import urllib.request\n",
    "\n",
    "for item in range(len(cheek_df.index)):\n",
    "    title = cheek_df.loc[item].title\n",
    "    color_name = cheek_df.loc[item].color_name\n",
    "    color_img = cheek_df.loc[item].color_img\n",
    "    main_img = cheek_df.loc[item].main_img\n",
    "\n",
    "    urllib.request.urlretrieve(main_img, \"c:/final project/images/\"+title+\"/\"+color_name+\"(발색비교).jpg\")\n",
    "    urllib.request.urlretrieve(color_img, \"c:/final project/images/\"+title+\"/\"+color_name+\"(상품색상).jpg\")\n",
    "\n"
   ]
  },
  {
   "cell_type": "code",
   "execution_count": 117,
   "metadata": {},
   "outputs": [],
   "source": [
    "cheek_df['이미지경로_발색비교']=cheek_df.apply(lambda x: x.품명 +\"/\"+ x.색상 + \"(발색비교).jpg\", axis=1)\n",
    "cheek_df['이미지경로_상품색상']=cheek_df.apply(lambda x: x.품명 +\"/\"+ x.색상 + \"(상품색상).jpg\", axis=1)\n"
   ]
  },
  {
   "cell_type": "code",
   "execution_count": 120,
   "metadata": {},
   "outputs": [
    {
     "data": {
      "text/html": [
       "<div>\n",
       "<style scoped>\n",
       "    .dataframe tbody tr th:only-of-type {\n",
       "        vertical-align: middle;\n",
       "    }\n",
       "\n",
       "    .dataframe tbody tr th {\n",
       "        vertical-align: top;\n",
       "    }\n",
       "\n",
       "    .dataframe thead th {\n",
       "        text-align: right;\n",
       "    }\n",
       "</style>\n",
       "<table border=\"1\" class=\"dataframe\">\n",
       "  <thead>\n",
       "    <tr style=\"text-align: right;\">\n",
       "      <th></th>\n",
       "      <th>품목</th>\n",
       "      <th>품명</th>\n",
       "      <th>가격</th>\n",
       "      <th>색상</th>\n",
       "      <th>이미지경로_발색비교</th>\n",
       "      <th>이미지경로_상품색상</th>\n",
       "    </tr>\n",
       "  </thead>\n",
       "  <tbody>\n",
       "    <tr>\n",
       "      <th>0</th>\n",
       "      <td>블러셔</td>\n",
       "      <td>[NEW] 롬앤 베러 댄 치크</td>\n",
       "      <td>9,900</td>\n",
       "      <td>N02 바인 누드</td>\n",
       "      <td>[NEW] 롬앤 베러 댄 치크/N02 바인 누드(발색비교).jpg</td>\n",
       "      <td>[NEW] 롬앤 베러 댄 치크/N02 바인 누드(상품색상).jpg</td>\n",
       "    </tr>\n",
       "    <tr>\n",
       "      <th>1</th>\n",
       "      <td>블러셔</td>\n",
       "      <td>[NEW] 롬앤 베러 댄 치크</td>\n",
       "      <td>9,900</td>\n",
       "      <td>N01 너티 누드</td>\n",
       "      <td>[NEW] 롬앤 베러 댄 치크/N01 너티 누드(발색비교).jpg</td>\n",
       "      <td>[NEW] 롬앤 베러 댄 치크/N01 너티 누드(상품색상).jpg</td>\n",
       "    </tr>\n",
       "    <tr>\n",
       "      <th>2</th>\n",
       "      <td>블러셔</td>\n",
       "      <td>[NEW] 롬앤 베러 댄 치크</td>\n",
       "      <td>9,900</td>\n",
       "      <td>C01 피치칩</td>\n",
       "      <td>[NEW] 롬앤 베러 댄 치크/C01 피치칩(발색비교).jpg</td>\n",
       "      <td>[NEW] 롬앤 베러 댄 치크/C01 피치칩(상품색상).jpg</td>\n",
       "    </tr>\n",
       "    <tr>\n",
       "      <th>3</th>\n",
       "      <td>블러셔</td>\n",
       "      <td>[NEW] 롬앤 베러 댄 치크</td>\n",
       "      <td>9,900</td>\n",
       "      <td>C02 블루베리칩</td>\n",
       "      <td>[NEW] 롬앤 베러 댄 치크/C02 블루베리칩(발색비교).jpg</td>\n",
       "      <td>[NEW] 롬앤 베러 댄 치크/C02 블루베리칩(상품색상).jpg</td>\n",
       "    </tr>\n",
       "    <tr>\n",
       "      <th>4</th>\n",
       "      <td>블러셔</td>\n",
       "      <td>[NEW] 롬앤 베러 댄 치크</td>\n",
       "      <td>9,900</td>\n",
       "      <td>C03 피그칩</td>\n",
       "      <td>[NEW] 롬앤 베러 댄 치크/C03 피그칩(발색비교).jpg</td>\n",
       "      <td>[NEW] 롬앤 베러 댄 치크/C03 피그칩(상품색상).jpg</td>\n",
       "    </tr>\n",
       "    <tr>\n",
       "      <th>...</th>\n",
       "      <td>...</td>\n",
       "      <td>...</td>\n",
       "      <td>...</td>\n",
       "      <td>...</td>\n",
       "      <td>...</td>\n",
       "      <td>...</td>\n",
       "    </tr>\n",
       "    <tr>\n",
       "      <th>236</th>\n",
       "      <td>블러셔</td>\n",
       "      <td>[정한 PICK]바닐라코 프라이밍 베일 치크 6g _ 4colors</td>\n",
       "      <td>11,600</td>\n",
       "      <td>PK01 글리머</td>\n",
       "      <td>[정한 PICK]바닐라코 프라이밍 베일 치크 6g _ 4colors/PK01 글리머...</td>\n",
       "      <td>[정한 PICK]바닐라코 프라이밍 베일 치크 6g _ 4colors/PK01 글리머...</td>\n",
       "    </tr>\n",
       "    <tr>\n",
       "      <th>237</th>\n",
       "      <td>블러셔</td>\n",
       "      <td>[정한 PICK]바닐라코 프라이밍 베일 치크 6g _ 4colors</td>\n",
       "      <td>11,600</td>\n",
       "      <td>CR01 리파인드</td>\n",
       "      <td>[정한 PICK]바닐라코 프라이밍 베일 치크 6g _ 4colors/CR01 리파인...</td>\n",
       "      <td>[정한 PICK]바닐라코 프라이밍 베일 치크 6g _ 4colors/CR01 리파인...</td>\n",
       "    </tr>\n",
       "    <tr>\n",
       "      <th>238</th>\n",
       "      <td>블러셔</td>\n",
       "      <td>[정한 PICK]바닐라코 프라이밍 베일 치크 6g _ 4colors</td>\n",
       "      <td>11,600</td>\n",
       "      <td>PK02 문리버</td>\n",
       "      <td>[정한 PICK]바닐라코 프라이밍 베일 치크 6g _ 4colors/PK02 문리버...</td>\n",
       "      <td>[정한 PICK]바닐라코 프라이밍 베일 치크 6g _ 4colors/PK02 문리버...</td>\n",
       "    </tr>\n",
       "    <tr>\n",
       "      <th>239</th>\n",
       "      <td>블러셔</td>\n",
       "      <td>잉글롯 AMC 페이스 리퀴드 블러쉬 91, 93호</td>\n",
       "      <td>34,000</td>\n",
       "      <td>91</td>\n",
       "      <td>잉글롯 AMC 페이스 리퀴드 블러쉬 91, 93호/91(발색비교).jpg</td>\n",
       "      <td>잉글롯 AMC 페이스 리퀴드 블러쉬 91, 93호/91(상품색상).jpg</td>\n",
       "    </tr>\n",
       "    <tr>\n",
       "      <th>240</th>\n",
       "      <td>블러셔</td>\n",
       "      <td>잉글롯 AMC 페이스 리퀴드 블러쉬 91, 93호</td>\n",
       "      <td>34,000</td>\n",
       "      <td>93</td>\n",
       "      <td>잉글롯 AMC 페이스 리퀴드 블러쉬 91, 93호/93(발색비교).jpg</td>\n",
       "      <td>잉글롯 AMC 페이스 리퀴드 블러쉬 91, 93호/93(상품색상).jpg</td>\n",
       "    </tr>\n",
       "  </tbody>\n",
       "</table>\n",
       "<p>241 rows × 6 columns</p>\n",
       "</div>"
      ],
      "text/plain": [
       "      품목                                     품명      가격         색상  \\\n",
       "0    블러셔                       [NEW] 롬앤 베러 댄 치크   9,900  N02 바인 누드   \n",
       "1    블러셔                       [NEW] 롬앤 베러 댄 치크   9,900  N01 너티 누드   \n",
       "2    블러셔                       [NEW] 롬앤 베러 댄 치크   9,900    C01 피치칩   \n",
       "3    블러셔                       [NEW] 롬앤 베러 댄 치크   9,900  C02 블루베리칩   \n",
       "4    블러셔                       [NEW] 롬앤 베러 댄 치크   9,900    C03 피그칩   \n",
       "..   ...                                    ...     ...        ...   \n",
       "236  블러셔  [정한 PICK]바닐라코 프라이밍 베일 치크 6g _ 4colors  11,600   PK01 글리머   \n",
       "237  블러셔  [정한 PICK]바닐라코 프라이밍 베일 치크 6g _ 4colors  11,600  CR01 리파인드   \n",
       "238  블러셔  [정한 PICK]바닐라코 프라이밍 베일 치크 6g _ 4colors  11,600   PK02 문리버   \n",
       "239  블러셔            잉글롯 AMC 페이스 리퀴드 블러쉬 91, 93호  34,000         91   \n",
       "240  블러셔            잉글롯 AMC 페이스 리퀴드 블러쉬 91, 93호  34,000         93   \n",
       "\n",
       "                                            이미지경로_발색비교  \\\n",
       "0                 [NEW] 롬앤 베러 댄 치크/N02 바인 누드(발색비교).jpg   \n",
       "1                 [NEW] 롬앤 베러 댄 치크/N01 너티 누드(발색비교).jpg   \n",
       "2                   [NEW] 롬앤 베러 댄 치크/C01 피치칩(발색비교).jpg   \n",
       "3                 [NEW] 롬앤 베러 댄 치크/C02 블루베리칩(발색비교).jpg   \n",
       "4                   [NEW] 롬앤 베러 댄 치크/C03 피그칩(발색비교).jpg   \n",
       "..                                                 ...   \n",
       "236  [정한 PICK]바닐라코 프라이밍 베일 치크 6g _ 4colors/PK01 글리머...   \n",
       "237  [정한 PICK]바닐라코 프라이밍 베일 치크 6g _ 4colors/CR01 리파인...   \n",
       "238  [정한 PICK]바닐라코 프라이밍 베일 치크 6g _ 4colors/PK02 문리버...   \n",
       "239           잉글롯 AMC 페이스 리퀴드 블러쉬 91, 93호/91(발색비교).jpg   \n",
       "240           잉글롯 AMC 페이스 리퀴드 블러쉬 91, 93호/93(발색비교).jpg   \n",
       "\n",
       "                                            이미지경로_상품색상  \n",
       "0                 [NEW] 롬앤 베러 댄 치크/N02 바인 누드(상품색상).jpg  \n",
       "1                 [NEW] 롬앤 베러 댄 치크/N01 너티 누드(상품색상).jpg  \n",
       "2                   [NEW] 롬앤 베러 댄 치크/C01 피치칩(상품색상).jpg  \n",
       "3                 [NEW] 롬앤 베러 댄 치크/C02 블루베리칩(상품색상).jpg  \n",
       "4                   [NEW] 롬앤 베러 댄 치크/C03 피그칩(상품색상).jpg  \n",
       "..                                                 ...  \n",
       "236  [정한 PICK]바닐라코 프라이밍 베일 치크 6g _ 4colors/PK01 글리머...  \n",
       "237  [정한 PICK]바닐라코 프라이밍 베일 치크 6g _ 4colors/CR01 리파인...  \n",
       "238  [정한 PICK]바닐라코 프라이밍 베일 치크 6g _ 4colors/PK02 문리버...  \n",
       "239           잉글롯 AMC 페이스 리퀴드 블러쉬 91, 93호/91(상품색상).jpg  \n",
       "240           잉글롯 AMC 페이스 리퀴드 블러쉬 91, 93호/93(상품색상).jpg  \n",
       "\n",
       "[241 rows x 6 columns]"
      ]
     },
     "execution_count": 120,
     "metadata": {},
     "output_type": "execute_result"
    }
   ],
   "source": [
    "cheek"
   ]
  },
  {
   "cell_type": "code",
   "execution_count": 121,
   "metadata": {},
   "outputs": [],
   "source": [
    "cheek.to_csv(\"c:/final project/cheek.csv\",sep=',',encoding=\"utf-8-sig\")"
   ]
  }
 ],
 "metadata": {
  "kernelspec": {
   "display_name": "base",
   "language": "python",
   "name": "python3"
  },
  "language_info": {
   "codemirror_mode": {
    "name": "ipython",
    "version": 3
   },
   "file_extension": ".py",
   "mimetype": "text/x-python",
   "name": "python",
   "nbconvert_exporter": "python",
   "pygments_lexer": "ipython3",
   "version": "3.9.13"
  },
  "orig_nbformat": 4
 },
 "nbformat": 4,
 "nbformat_minor": 2
}
